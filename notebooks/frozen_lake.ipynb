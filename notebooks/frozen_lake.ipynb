{
 "metadata": {
  "language_info": {
   "codemirror_mode": {
    "name": "ipython",
    "version": 3
   },
   "file_extension": ".py",
   "mimetype": "text/x-python",
   "name": "python",
   "nbconvert_exporter": "python",
   "pygments_lexer": "ipython3",
   "version": "3.8.5-final"
  },
  "orig_nbformat": 2,
  "kernelspec": {
   "name": "python3",
   "display_name": "Python 3.8.5 64-bit ('azul': conda)",
   "metadata": {
    "interpreter": {
     "hash": "cdcdf8de9fd7f96fd85718281ded5830c39a58369824822cfc01a5de1ee11350"
    }
   }
  }
 },
 "nbformat": 4,
 "nbformat_minor": 2,
 "cells": [
  {
   "cell_type": "code",
   "execution_count": 13,
   "metadata": {},
   "outputs": [],
   "source": [
    "import random\n",
    "\n",
    "from functools import partial\n",
    "from gym.envs.toy_text import FrozenLakeEnv\n",
    "\n",
    "from mctspy.tree import (\n",
    "    DecisionNode, \n",
    "    MCTSSimulatorInterface, \n",
    "    MCTS, \n",
    "    ucb_action,\n",
    ")"
   ]
  },
  {
   "cell_type": "code",
   "execution_count": 14,
   "metadata": {},
   "outputs": [],
   "source": [
    "class FrozenLakeMCTS(MCTSSimulatorInterface):\n",
    "\n",
    "    def __init__(self, env):\n",
    "        self.env = env\n",
    "\n",
    "    def step(self, state, action):\n",
    "        self.env.s = state\n",
    "        next_state, reward, *_ = self.env.step(action)\n",
    "        \n",
    "        return next_state, reward\n",
    "    \n",
    "    def state_reward(self, state):\n",
    "        return 1 if self.env.desc.flat[state] == b\"G\" else 0\n",
    "\n",
    "    def state_is_terminal(self, state):\n",
    "        return (\n",
    "            self.env.desc.flat[state] == b\"G\" or \n",
    "            self.env.desc.flat[state] == b\"H\"\n",
    "        )\n",
    "\n",
    "    def enumerate_actions(self, state):\n",
    "        return set(range(self.env.action_space.n))\n",
    "\n",
    "    def get_initial_state(self):\n",
    "        return self.env.reset()"
   ]
  },
  {
   "cell_type": "code",
   "execution_count": 15,
   "metadata": {},
   "outputs": [],
   "source": [
    "def random_rollout_value(state, env: FrozenLakeMCTS):\n",
    "    \"\"\" Rollout the environment till terminal state with random actions.\n",
    "    \"\"\"\n",
    "    cummulative_reward = 0\n",
    "    while not env.state_is_terminal(state):\n",
    "        state, reward = env.step(\n",
    "            state, \n",
    "            random.choice(tuple(env.enumerate_actions(state)))\n",
    "        )\n",
    "        cummulative_reward += reward\n",
    "\n",
    "    return cummulative_reward"
   ]
  },
  {
   "cell_type": "code",
   "execution_count": 16,
   "metadata": {},
   "outputs": [
    {
     "output_type": "stream",
     "name": "stdout",
     "text": [
      "0, score 0.00411522633744856\n2, score 0.01953125\n1, score 0.012048192771084338\n3, score 0.015873015873015872\n"
     ]
    }
   ],
   "source": [
    "env = FrozenLakeEnv(is_slippery=False, map_name=\"4x4\")\n",
    "env = FrozenLakeMCTS(env)\n",
    "\n",
    "mcts = MCTS(env, ucb_action, partial(random_rollout_value, env=env), 1000)\n",
    "mcts_root = DecisionNode(env.get_initial_state(), 0, 0, {})\n",
    "\n",
    "mcts.build_tree(mcts_root)\n",
    "for i, chance_node in mcts_root.children.items():\n",
    "    print(f\"{i}, score {chance_node.value / chance_node.visits}\")"
   ]
  },
  {
   "cell_type": "code",
   "execution_count": 12,
   "metadata": {},
   "outputs": [
    {
     "output_type": "execute_result",
     "data": {
      "text/plain": [
       "[0, 4, 8, 9, 13, 14, 15]"
      ]
     },
     "metadata": {},
     "execution_count": 12
    }
   ],
   "source": [
    "env = FrozenLakeEnv(is_slippery=False, map_name=\"4x4\")\n",
    "env = FrozenLakeMCTS(env)\n",
    "\n",
    "state = env.get_initial_state()\n",
    "trajectory = [state]\n",
    "\n",
    "mcts = MCTS(env, ucb_action, partial(random_rollout_value, env=env), 1000)\n",
    "mcts_root = DecisionNode(state, 0, 0, {})\n",
    "current = mcts_root\n",
    "\n",
    "while not env.state_is_terminal(state):\n",
    "    mcts.build_tree(current)\n",
    "\n",
    "    action = max(\n",
    "        (chance_node for chance_node in current.children.values()), \n",
    "        key=lambda chance_node: chance_node.value / chance_node.visits\n",
    "    ).action\n",
    "\n",
    "    state, reward = env.step(state, action)\n",
    "    current = current.children[action].children[state]\n",
    "    \n",
    "    trajectory.append(state)\n",
    "\n",
    "trajectory"
   ]
  },
  {
   "cell_type": "code",
   "execution_count": null,
   "metadata": {},
   "outputs": [],
   "source": []
  }
 ]
}
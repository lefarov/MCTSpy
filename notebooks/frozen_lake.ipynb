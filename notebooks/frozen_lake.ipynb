{
 "metadata": {
  "language_info": {
   "codemirror_mode": {
    "name": "ipython",
    "version": 3
   },
   "file_extension": ".py",
   "mimetype": "text/x-python",
   "name": "python",
   "nbconvert_exporter": "python",
   "pygments_lexer": "ipython3",
   "version": "3.8.5-final"
  },
  "orig_nbformat": 2,
  "kernelspec": {
   "name": "python3",
   "display_name": "Python 3.8.5 64-bit ('azul': conda)",
   "metadata": {
    "interpreter": {
     "hash": "cdcdf8de9fd7f96fd85718281ded5830c39a58369824822cfc01a5de1ee11350"
    }
   }
  }
 },
 "nbformat": 4,
 "nbformat_minor": 2,
 "cells": [
  {
   "cell_type": "code",
   "execution_count": 13,
   "metadata": {},
   "outputs": [],
   "source": [
    "import random\n",
    "\n",
    "from functools import partial\n",
    "from gym.envs.toy_text import FrozenLakeEnv\n",
    "\n",
    "from mctspy.tree import (\n",
    "    DecisionNode, \n",
    "    MCTSSimulatorInterface, \n",
    "    MCTS, \n",
    "    ucb_action,\n",
    ")"
   ]
  },
  {
   "cell_type": "code",
   "execution_count": 21,
   "metadata": {},
   "outputs": [],
   "source": [
    "class FrozenLakeMCTS(MCTSSimulatorInterface):\n",
    "\n",
    "    def __init__(self, env):\n",
    "        self.env = env\n",
    "\n",
    "    def step(self, state, action):\n",
    "        self.env.s = state\n",
    "        next_state, reward, *_ = self.env.step(action)\n",
    "        \n",
    "        return next_state, reward\n",
    "\n",
    "    def state_is_terminal(self, state):\n",
    "        return self.env.desc.flat[state] in (b\"G\", b\"H\")\n",
    "\n",
    "    def enumerate_actions(self, state):\n",
    "        return set(range(self.env.action_space.n))\n",
    "\n",
    "    def get_initial_state(self):\n",
    "        return self.env.reset()"
   ]
  },
  {
   "cell_type": "code",
   "execution_count": 22,
   "metadata": {},
   "outputs": [],
   "source": [
    "def random_rollout_value(state, env: FrozenLakeMCTS):\n",
    "    \"\"\" Rollout the environment till terminal state with random actions.\n",
    "    \"\"\"\n",
    "    cummulative_reward = 0\n",
    "    while not env.state_is_terminal(state):\n",
    "        state, reward = env.step(\n",
    "            state, \n",
    "            random.choice(tuple(env.enumerate_actions(state)))\n",
    "        )\n",
    "        cummulative_reward += reward\n",
    "\n",
    "    return cummulative_reward"
   ]
  },
  {
   "cell_type": "code",
   "execution_count": 26,
   "metadata": {},
   "outputs": [
    {
     "output_type": "execute_result",
     "data": {
      "text/plain": [
       "0.71"
      ]
     },
     "metadata": {},
     "execution_count": 26
    }
   ],
   "source": [
    "n_tests = 100\n",
    "n_positive = 0\n",
    "\n",
    "for _ in range(n_tests):\n",
    "    env = FrozenLakeEnv(is_slippery=False, map_name=\"4x4\")\n",
    "    env = FrozenLakeMCTS(env)\n",
    "\n",
    "    mcts = MCTS(env, ucb_action, partial(random_rollout_value, env=env), 1000)\n",
    "    mcts_root = DecisionNode(env.get_initial_state(), 0, 0, {})\n",
    "\n",
    "    # Build tree\n",
    "    mcts.build_tree(mcts_root)\n",
    "\n",
    "    # Get the best score in root Node\n",
    "    best_score = max(chance_node.value / chance_node.visits for chance_node in mcts_root.children.values())\n",
    "\n",
    "    # Compute scores for two optimal actions\n",
    "    a1_score = mcts_root.children[1].value / mcts_root.children[1].visits\n",
    "    a2_score = mcts_root.children[2].value / mcts_root.children[2].visits\n",
    "\n",
    "    if a1_score == best_score or a2_score == best_score:\n",
    "        n_positive += 1\n",
    "\n",
    "n_positive / n_tests"
   ]
  },
  {
   "cell_type": "code",
   "execution_count": 27,
   "metadata": {},
   "outputs": [
    {
     "output_type": "execute_result",
     "data": {
      "text/plain": [
       "0.66"
      ]
     },
     "metadata": {},
     "execution_count": 27
    }
   ],
   "source": [
    "n_tests = 100\n",
    "n_positive = 0\n",
    "\n",
    "for _ in range(n_tests):\n",
    "\n",
    "    env = FrozenLakeEnv(is_slippery=False, map_name=\"4x4\")\n",
    "    env = FrozenLakeMCTS(env)\n",
    "\n",
    "    state = env.get_initial_state()\n",
    "    trajectory = [state]\n",
    "\n",
    "    mcts = MCTS(env, ucb_action, partial(random_rollout_value, env=env), 1000)\n",
    "    mcts_root = DecisionNode(state, 0, 0, {})\n",
    "    \n",
    "    current = mcts_root\n",
    "\n",
    "    while not env.state_is_terminal(state):\n",
    "        mcts.build_tree(current)\n",
    "\n",
    "        action = max(\n",
    "            (chance_node for chance_node in current.children.values()), \n",
    "            key=lambda chance_node: chance_node.value / chance_node.visits\n",
    "        ).action\n",
    "\n",
    "        state, reward = env.step(state, action)\n",
    "        current = current.children[action].children[state]\n",
    "        \n",
    "        trajectory.append(state)\n",
    "\n",
    "    if len(trajectory) == 7:\n",
    "        n_positive += 1\n",
    "\n",
    "n_positive / n_tests"
   ]
  },
  {
   "cell_type": "code",
   "execution_count": null,
   "metadata": {},
   "outputs": [],
   "source": []
  }
 ]
}
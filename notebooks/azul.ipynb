{
 "metadata": {
  "language_info": {
   "codemirror_mode": {
    "name": "ipython",
    "version": 3
   },
   "file_extension": ".py",
   "mimetype": "text/x-python",
   "name": "python",
   "nbconvert_exporter": "python",
   "pygments_lexer": "ipython3",
   "version": "3.8.5-final"
  },
  "orig_nbformat": 2,
  "kernelspec": {
   "name": "python3",
   "display_name": "Python 3",
   "language": "python"
  }
 },
 "nbformat": 4,
 "nbformat_minor": 2,
 "cells": [
  {
   "cell_type": "code",
   "execution_count": 24,
   "metadata": {},
   "outputs": [],
   "source": [
    "import math\n",
    "import random\n",
    "import seaborn\n",
    "import matplotlib.pyplot as plt\n",
    "\n",
    "from collections import defaultdict\n",
    "\n",
    "from azulbot.azulsim import Azul, Move, AzulState\n",
    "\n",
    "from mctspy.tree import DecisionNode, MCTS\n",
    "from mctspy.policies import uct_action\n",
    "from mctspy.simluator import MCTSSimulator"
   ]
  },
  {
   "cell_type": "code",
   "execution_count": 20,
   "metadata": {},
   "outputs": [],
   "source": [
    "class AzulMCTS(MCTSSimulator):\n",
    "\n",
    "    def __init__(self, azul, full_game=False):\n",
    "        self.azul = azul\n",
    "        self.ful_game = full_game\n",
    "\n",
    "    def step(self, state, action):\n",
    "        next_game_state = self.azul.apply_move(state, move)\n",
    "        \n",
    "        if self.full_game and self.azul.is_round_end(next_game_state):\n",
    "            next_game_state = self.azul.deal_round(next_game_state)\n",
    "\n",
    "        return next_game_state.state, 0, next_game_state.nextPlayer\n",
    "\n",
    "    def state_is_terminal(self, state):\n",
    "        return (\n",
    "            self.azul.is_game_end(state) if self.full_game \n",
    "            else self.azul.is_round_end(state)\n",
    "        ) \n",
    "\n",
    "    def enumerate_actions(self, state):\n",
    "        return set(self.azul.enumerate_moves(state))\n",
    "\n",
    "    def get_initial_state(self):\n",
    "        state = self.azul.deal_round(self.azul.get_init_state())\n",
    "        return state, state.nextPlayer\n",
    "\n",
    "    def get_agent_num(self):\n",
    "        return self.azul.PlayerNumber\n",
    "\n",
    "    def get_current_agent(self, state):\n",
    "        return state.nextPlayer\n",
    "\n",
    "    def get_terminal_value(self, state):\n",
    "        state = self.azul.score_round(state)\n",
    "\n",
    "        if self.full_game:\n",
    "            state = self.azul.score_game(state)\n",
    "        \n",
    "        return {i: player.score for i, player in enumerate(state.players)}"
   ]
  },
  {
   "cell_type": "code",
   "execution_count": null,
   "metadata": {},
   "outputs": [],
   "source": [
    "env = Azul()\n",
    "env = AzulMCTS(env)\n",
    "\n",
    "initial_state, agent_id = env.get_initial_state()\n",
    "\n",
    "mcts = MCTS(env, uct_action, partial(random_rollout_value, env=env, seed=seed), 50)\n",
    "mcts_root = DecisionNode(initial_state, 0, {}, agent_id)\n",
    "\n",
    "# Build tree\n",
    "mcts.build_tree(mcts_root)"
   ]
  }
 ]
}
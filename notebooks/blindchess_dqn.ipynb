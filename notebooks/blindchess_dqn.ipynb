{
 "cells": [
  {
   "cell_type": "code",
   "execution_count": 2,
   "source": [
    "%%bash\n",
    "\n",
    "# Continue only if running on Google Colab\n",
    "[[ ! -e /colabtools ]] && exit\n",
    "\n",
    "# Setup Colab environment\n",
    "pip3 install torch torchvision reconchess wandb\n"
   ],
   "outputs": [],
   "metadata": {}
  }
 ],
 "metadata": {
  "orig_nbformat": 4,
  "language_info": {
   "name": "python",
   "version": "3.8.5",
   "mimetype": "text/x-python",
   "codemirror_mode": {
    "name": "ipython",
    "version": 3
   },
   "pygments_lexer": "ipython3",
   "nbconvert_exporter": "python",
   "file_extension": ".py"
  },
  "kernelspec": {
   "name": "python3",
   "display_name": "Python 3.8.5 64-bit ('azul': conda)"
  },
  "interpreter": {
   "hash": "cdcdf8de9fd7f96fd85718281ded5830c39a58369824822cfc01a5de1ee11350"
  }
 },
 "nbformat": 4,
 "nbformat_minor": 2
}